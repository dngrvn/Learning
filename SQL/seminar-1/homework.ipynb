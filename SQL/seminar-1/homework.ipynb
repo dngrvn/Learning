{
 "cells": [
  {
   "attachments": {},
   "cell_type": "markdown",
   "metadata": {},
   "source": [
    "1. Создайте таблицу с мобильными телефонами (mobile_phones),\n",
    "используя графический интерфейс. Заполните БД данными. Добавьте\n",
    "скриншот на платформу в качестве ответа на ДЗ "
   ]
  },
  {
   "attachments": {},
   "cell_type": "markdown",
   "metadata": {},
   "source": [
    "![Скриншот](screen.png)"
   ]
  },
  {
   "cell_type": "code",
   "execution_count": 14,
   "metadata": {},
   "outputs": [],
   "source": [
    "import pymysql\n",
    "import pandas as pd\n",
    "\n",
    "import warnings\n",
    "warnings.filterwarnings('ignore')\n",
    "\n",
    "conn = pymysql.connect(host='localhost',\n",
    "                       port=int('3306'),\n",
    "                       user='root',\n",
    "                       passwd='82418241',\n",
    "                       db='mobile_phones')"
   ]
  },
  {
   "cell_type": "code",
   "execution_count": 15,
   "metadata": {},
   "outputs": [
    {
     "name": "stdout",
     "output_type": "stream",
     "text": [
      "   id product_name manufacturer  product_count  price\n",
      "0   1     iPhone X       Apple               3  76000\n",
      "1   2    iPhone 8        Apple               2  51000\n",
      "2   3    Galaxy S9      Samsung              2  56000\n",
      "3   4   Galaxy S8       Samsung              1  41000\n",
      "4   5     P20 Pro        Huawei              5  36000\n"
     ]
    }
   ],
   "source": [
    "df = pd.read_sql_query(\"SELECT * FROM mobile_phones.mobile_phones\", conn)\n",
    "\n",
    "print(df)\n"
   ]
  },
  {
   "attachments": {},
   "cell_type": "markdown",
   "metadata": {},
   "source": [
    "2. Выведите название, производителя и цену для товаров, количество\n",
    "которых превышает 2"
   ]
  },
  {
   "cell_type": "code",
   "execution_count": 16,
   "metadata": {},
   "outputs": [
    {
     "name": "stdout",
     "output_type": "stream",
     "text": [
      "  product_name manufacturer\n",
      "0     iPhone X       Apple \n",
      "1     P20 Pro        Huawei\n"
     ]
    }
   ],
   "source": [
    "df = pd.read_sql_query(\n",
    "    \"SELECT product_name, manufacturer FROM mobile_phones.mobile_phones WHERE product_count > 2\", conn)\n",
    "\n",
    "print(df)\n"
   ]
  },
  {
   "attachments": {},
   "cell_type": "markdown",
   "metadata": {},
   "source": [
    "3. Выведите весь ассортимент товаров марки “Samsung”\n"
   ]
  },
  {
   "cell_type": "code",
   "execution_count": 17,
   "metadata": {},
   "outputs": [
    {
     "name": "stdout",
     "output_type": "stream",
     "text": [
      "  product_name manufacturer  product_count  price\n",
      "0    Galaxy S9      Samsung              2  56000\n",
      "1   Galaxy S8       Samsung              1  41000\n"
     ]
    }
   ],
   "source": [
    "df = pd.read_sql_query(\n",
    "    \"SELECT product_name, manufacturer, product_count, price FROM mobile_phones.mobile_phones WHERE manufacturer='Samsung'\", conn)\n",
    "\n",
    "print(df)"
   ]
  },
  {
   "attachments": {},
   "cell_type": "markdown",
   "metadata": {},
   "source": [
    "4. (по желанию)* С помощью регулярных выражений найти:"
   ]
  },
  {
   "attachments": {},
   "cell_type": "markdown",
   "metadata": {},
   "source": [
    "4.1. Товары, в которых есть упоминание \"Iphone\""
   ]
  },
  {
   "cell_type": "code",
   "execution_count": 18,
   "metadata": {},
   "outputs": [
    {
     "name": "stdout",
     "output_type": "stream",
     "text": [
      "  product_name manufacturer  product_count  price\n",
      "0     iPhone X       Apple               3  76000\n",
      "1    iPhone 8        Apple               2  51000\n"
     ]
    }
   ],
   "source": [
    "df = pd.read_sql_query(\n",
    "    \"SELECT product_name, manufacturer, product_count, price FROM mobile_phones.mobile_phones WHERE product_name REGEXP 'Iphone' || manufacturer REGEXP 'Iphone'\", conn)\n",
    "\n",
    "print(df)\n"
   ]
  },
  {
   "attachments": {},
   "cell_type": "markdown",
   "metadata": {},
   "source": [
    "4.2. Товары, в которых есть упоминание \"Samsung\"\n"
   ]
  },
  {
   "cell_type": "code",
   "execution_count": 19,
   "metadata": {},
   "outputs": [
    {
     "name": "stdout",
     "output_type": "stream",
     "text": [
      "  product_name manufacturer  product_count  price\n",
      "0    Galaxy S9      Samsung              2  56000\n",
      "1   Galaxy S8       Samsung              1  41000\n"
     ]
    }
   ],
   "source": [
    "df = pd.read_sql_query(\n",
    "    \"SELECT product_name, manufacturer, product_count, price FROM mobile_phones.mobile_phones WHERE product_name REGEXP 'Samsung' || manufacturer REGEXP 'Samsung'\", conn)\n",
    "\n",
    "print(df)\n"
   ]
  },
  {
   "attachments": {},
   "cell_type": "markdown",
   "metadata": {},
   "source": [
    "4.3. Товары, в которых есть ЦИФРЫ"
   ]
  },
  {
   "cell_type": "code",
   "execution_count": 20,
   "metadata": {},
   "outputs": [
    {
     "name": "stdout",
     "output_type": "stream",
     "text": [
      "  product_name manufacturer  product_count  price\n",
      "0    iPhone 8        Apple               2  51000\n",
      "1    Galaxy S9      Samsung              2  56000\n",
      "2   Galaxy S8       Samsung              1  41000\n",
      "3     P20 Pro        Huawei              5  36000\n"
     ]
    }
   ],
   "source": [
    "df = pd.read_sql_query(\n",
    "    \"SELECT product_name, manufacturer, product_count, price FROM mobile_phones.mobile_phones WHERE product_name REGEXP '[[:digit:]]' = 1 || manufacturer REGEXP '[[:digit:]]' = 1\", conn)\n",
    "\n",
    "print(df)\n"
   ]
  },
  {
   "attachments": {},
   "cell_type": "markdown",
   "metadata": {},
   "source": [
    "4.4. Товары, в которых есть ЦИФРА \"8\""
   ]
  },
  {
   "cell_type": "code",
   "execution_count": 21,
   "metadata": {},
   "outputs": [
    {
     "name": "stdout",
     "output_type": "stream",
     "text": [
      "  product_name manufacturer  product_count  price\n",
      "0    iPhone 8        Apple               2  51000\n",
      "1   Galaxy S8       Samsung              1  41000\n"
     ]
    }
   ],
   "source": [
    "df = pd.read_sql_query(\n",
    "    \"SELECT product_name, manufacturer, product_count, price FROM mobile_phones.mobile_phones WHERE product_name REGEXP '[[8]]' = 1 || manufacturer REGEXP '[[8]]' = 1\", conn)\n",
    "\n",
    "print(df)\n"
   ]
  }
 ],
 "metadata": {
  "kernelspec": {
   "display_name": "Python 3",
   "language": "python",
   "name": "python3"
  },
  "language_info": {
   "codemirror_mode": {
    "name": "ipython",
    "version": 3
   },
   "file_extension": ".py",
   "mimetype": "text/x-python",
   "name": "python",
   "nbconvert_exporter": "python",
   "pygments_lexer": "ipython3",
   "version": "3.11.2"
  },
  "orig_nbformat": 4
 },
 "nbformat": 4,
 "nbformat_minor": 2
}
